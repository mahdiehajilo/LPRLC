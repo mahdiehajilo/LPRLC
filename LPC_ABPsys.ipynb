{
 "cells": [
  {
   "cell_type": "code",
   "execution_count": 7,
   "id": "aac2b259",
   "metadata": {},
   "outputs": [],
   "source": [
    "%matplotlib inline\n",
    "import numpy as np\n",
    "import pandas as pd\n",
    "import matplotlib.pyplot as plt\n",
    "import seaborn as sns\n",
    "from sklearn.decomposition import PCA\n",
    "from sklearn.preprocessing import StandardScaler\n",
    "import librosa\n",
    "import scipy \n",
    "import dippykit\n",
    "import sys"
   ]
  },
  {
   "cell_type": "code",
   "execution_count": 8,
   "id": "a68fb577",
   "metadata": {},
   "outputs": [
    {
     "data": {
      "text/html": [
       "<div>\n",
       "<style scoped>\n",
       "    .dataframe tbody tr th:only-of-type {\n",
       "        vertical-align: middle;\n",
       "    }\n",
       "\n",
       "    .dataframe tbody tr th {\n",
       "        vertical-align: top;\n",
       "    }\n",
       "\n",
       "    .dataframe thead th {\n",
       "        text-align: right;\n",
       "    }\n",
       "</style>\n",
       "<table border=\"1\" class=\"dataframe\">\n",
       "  <thead>\n",
       "    <tr style=\"text-align: right;\">\n",
       "      <th></th>\n",
       "      <th>'[08:16:10 26/10/1994]'</th>\n",
       "      <th>95.000</th>\n",
       "    </tr>\n",
       "  </thead>\n",
       "  <tbody>\n",
       "    <tr>\n",
       "      <th>0</th>\n",
       "      <td>'[08:16:11 26/10/1994]'</td>\n",
       "      <td>95.0</td>\n",
       "    </tr>\n",
       "    <tr>\n",
       "      <th>1</th>\n",
       "      <td>'[08:16:12 26/10/1994]'</td>\n",
       "      <td>95.0</td>\n",
       "    </tr>\n",
       "    <tr>\n",
       "      <th>2</th>\n",
       "      <td>'[08:16:13 26/10/1994]'</td>\n",
       "      <td>95.0</td>\n",
       "    </tr>\n",
       "    <tr>\n",
       "      <th>3</th>\n",
       "      <td>'[08:16:14 26/10/1994]'</td>\n",
       "      <td>94.0</td>\n",
       "    </tr>\n",
       "    <tr>\n",
       "      <th>4</th>\n",
       "      <td>'[08:16:15 26/10/1994]'</td>\n",
       "      <td>95.0</td>\n",
       "    </tr>\n",
       "  </tbody>\n",
       "</table>\n",
       "</div>"
      ],
      "text/plain": [
       "   '[08:16:10 26/10/1994]'  95.000\n",
       "0  '[08:16:11 26/10/1994]'    95.0\n",
       "1  '[08:16:12 26/10/1994]'    95.0\n",
       "2  '[08:16:13 26/10/1994]'    95.0\n",
       "3  '[08:16:14 26/10/1994]'    94.0\n",
       "4  '[08:16:15 26/10/1994]'    95.0"
      ]
     },
     "execution_count": 8,
     "metadata": {},
     "output_type": "execute_result"
    }
   ],
   "source": [
    "df = pd.read_csv('ABPsys.csv')\n",
    "df.head()"
   ]
  },
  {
   "cell_type": "code",
   "execution_count": 9,
   "id": "ef68f86e",
   "metadata": {},
   "outputs": [
    {
     "name": "stdout",
     "output_type": "stream",
     "text": [
      "[ 95.  95.  95.  94.  95.  97.  98.  99. 101. 102. 102. 103. 104. 105.\n",
      " 104. 103. 102. 102. 102. 100. 100. 101. 103. 103. 104. 106. 106. 109.\n",
      " 110. 111. 111. 116. 117. 120. 121. 123. 125. 125. 121. 121. 120. 120.\n",
      " 119. 119. 115. 114. 114. 113. 115. 115. 115. 114. 113. 115. 114. 116.\n",
      " 114. 113.]\n"
     ]
    }
   ],
   "source": [
    "X = df.iloc[:,1].values\n",
    "print(X)"
   ]
  },
  {
   "cell_type": "code",
   "execution_count": 10,
   "id": "4282305b",
   "metadata": {},
   "outputs": [
    {
     "name": "stdout",
     "output_type": "stream",
     "text": [
      "[ 95.  95.  95.  94.  95.  97.  98.  99. 101. 102. 102. 103. 104. 105.\n",
      " 104. 103. 102. 102. 102. 100. 100. 101. 103. 103. 104. 106. 106. 109.\n",
      " 110. 111. 111. 116. 117. 120. 121. 123. 125. 125. 121. 121. 120. 120.\n",
      " 119. 119. 115. 114. 114. 113. 115. 115. 115. 114. 113. 115. 114. 116.\n",
      " 114. 113.]\n"
     ]
    }
   ],
   "source": [
    "pq = X.flatten()\n",
    "print(pq)"
   ]
  },
  {
   "cell_type": "code",
   "execution_count": 11,
   "id": "8f960da4",
   "metadata": {},
   "outputs": [
    {
     "name": "stdout",
     "output_type": "stream",
     "text": [
      "[ 95  95  95  94  95  97  98  99 101 102 102 103 104 105 104 103 102 102\n",
      " 102 100 100 101 103 103 104 106 106 109 110 111 111 116 117 120 121 123\n",
      " 125 125 121 121 120 120 119 119 115 114 114 113 115 115 115 114 113 115\n",
      " 114 116 114 113]\n"
     ]
    }
   ],
   "source": [
    "#curve_fitting_model\n",
    "CountInitial = len(pq)*64\n",
    "a = librosa.lpc(pq, order=10)\n",
    "b = np.hstack([[0], -1 * a[1:]])\n",
    "pq_hat = scipy.signal.lfilter(b, [1], pq)\n",
    "err = np.abs(pq-pq_hat)\n",
    "Err = (np.around(err, decimals=1))*10\n",
    "Err = Err.astype(np.int64)\n",
    "Err = pq\n",
    "Err = Err.astype(np.int64)\n",
    "print(Err)"
   ]
  },
  {
   "cell_type": "code",
   "execution_count": 12,
   "id": "ef408002",
   "metadata": {},
   "outputs": [
    {
     "name": "stdout",
     "output_type": "stream",
     "text": [
      "Root Mean Square Error:\n",
      "\n",
      "13.558870299468714\n"
     ]
    }
   ],
   "source": [
    "import math\n",
    "MSE = np.square(np.subtract(pq,pq_hat)).mean() \n",
    "RMSE = math.sqrt(MSE)\n",
    "print(\"Root Mean Square Error:\\n\")\n",
    "print(RMSE)"
   ]
  },
  {
   "cell_type": "code",
   "execution_count": 14,
   "id": "66054a7d",
   "metadata": {},
   "outputs": [
    {
     "data": {
      "image/png": "[encoded data removed]",
      "text/plain": [
       "<Figure size 432x288 with 1 Axes>"
      ]
     },
     "metadata": {
      "needs_background": "light"
     },
     "output_type": "display_data"
    }
   ],
   "source": [
    "plt.plot(pq,label='original data')\n",
    "plt.xlabel('time(sec)',weight='bold',fontsize=14.0)\n",
    "plt.ylabel('magnitude(mmHg)',weight='bold',fontsize=14.0)\n",
    "plt.plot(pq_hat,label='predict data')\n",
    "plt.legend()\n",
    "plt.grid(color='black',which='both', linestyle='-', linewidth=1)\n",
    "plt.show()"
   ]
  },
  {
   "cell_type": "code",
   "execution_count": 8,
   "id": "c1fc7069",
   "metadata": {},
   "outputs": [
    {
     "name": "stdout",
     "output_type": "stream",
     "text": [
      "[1953.585440142e58+32191 57652257846456748349\n",
      "14-26]1\n",
      "53\n",
      "0.014278017241379311\n",
      "98.57219827586206\n"
     ]
    }
   ],
   "source": [
    "#Run Length Encoding\n",
    "from collections import OrderedDict\n",
    "def runLengthEncoding(input):\n",
    " \n",
    "    # Generate ordered dictionary of all lower\n",
    "    # case alphabets, its output will be\n",
    "    # dict = {'w':0, 'a':0, 'd':0, 'e':0, 'x':0}\n",
    "    dict=OrderedDict.fromkeys(input, 0)\n",
    " \n",
    "    # Now iterate through input string to calculate\n",
    "    # frequency of each character, its output will be\n",
    "    # dict = {'w':4,'a':3,'d':1,'e':1,'x':6}\n",
    "    for ch in input:\n",
    "        dict[ch] += 1\n",
    " \n",
    "    # now iterate through dictionary to make\n",
    "    # output string from (key,value) pairs\n",
    "    output = ''\n",
    "    for key,value in dict.items():\n",
    "        output = output + key + str(value)\n",
    "    return output\n",
    " \n",
    "# Driver function\n",
    "if __name__ == \"__main__\":\n",
    "    code=runLengthEncoding(str(err))\n",
    "    print (code)\n",
    "    le=len(code)\n",
    "    print(le)\n",
    "    #leDe=len(str(Err))\n",
    "    #print(leDe)\n",
    "    cr=(le/CountInitial)\n",
    "    print(cr)\n",
    "    ec=(1-(cr))*100\n",
    "    print(ec)\n",
    "    "
   ]
  },
  {
   "cell_type": "code",
   "execution_count": 9,
   "id": "ba8fd787",
   "metadata": {},
   "outputs": [
    {
     "name": "stdout",
     "output_type": "stream",
     "text": [
      "258\n",
      "3712\n",
      "258\n",
      "0.06950431034482758\n",
      "14.387596899224807\n",
      "93.04956896551724\n"
     ]
    }
   ],
   "source": [
    "im_encoded, stream_length, symbol_code_dict, symbol_prob_dict = dippykit.huffman_encode(Err)\n",
    "print(stream_length)\n",
    "Tra = np.unpackbits(im_encoded)\n",
    "im_decoded_temp = dippykit.huffman_decode(im_encoded, symbol_code_dict)\n",
    "im_decoded = im_decoded_temp[:-2]\n",
    "CountInitial = len(pq)*64\n",
    "CR = (stream_length/CountInitial)\n",
    "print(CountInitial)\n",
    "print(stream_length)\n",
    "print(CR)\n",
    "pc=1/CR\n",
    "print(pc)\n",
    "EC = (1-(CR))*100\n",
    "print(EC)"
   ]
  },
  {
   "cell_type": "code",
   "execution_count": 10,
   "id": "3ca1051c",
   "metadata": {},
   "outputs": [
    {
     "name": "stdout",
     "output_type": "stream",
     "text": [
      "[9.50000000e+01 9.96928559e+00 2.56421576e+01 3.51090332e+00\n",
      " 1.24487961e+01 3.63394842e+00 9.88621946e+00 5.63937309e+00\n",
      " 2.09199107e+01 5.23465131e+00 1.08677742e+00 1.17150677e-01\n",
      " 6.86749356e-01 7.79658747e-01 1.30486241e+00 1.06450579e+00\n",
      " 3.25632180e-01 4.11027085e-01 3.89197532e-01 1.60637183e+00\n",
      " 8.49110444e-01 1.92773774e+00 1.86588682e+00 4.90956510e-01\n",
      " 3.13573993e-01 1.88130139e+00 9.20590994e-01 1.80718270e+00\n",
      " 2.34007520e-01 6.63464695e-02 2.10514744e-01 4.22943385e+00\n",
      " 4.50920271e-01 1.48826172e+00 3.94904160e-01 9.18609329e-01\n",
      " 1.42408512e+00 1.54200936e+00 4.68840538e+00 7.83705023e-01\n",
      " 2.07768897e-01 6.05651203e-01 1.07964151e-01 9.62691209e-01\n",
      " 2.61724100e+00 5.88227118e-01 6.36657547e-01 8.09662994e-01\n",
      " 2.62442236e+00 3.57148139e-01 2.00677224e-01 1.05343467e+00\n",
      " 1.97504848e+00 1.96528433e+00 1.22374283e+00 1.65456593e+00\n",
      " 1.41638828e+00 1.29727844e+00]\n",
      "\n",
      "883\n",
      "0.23787715517241378\n",
      "76.21228448275862\n"
     ]
    }
   ],
   "source": [
    "def longest_common_substring(s1, s2):\n",
    "    # go along the first string and search for the longest match\n",
    "    maxLongest = 0\n",
    "    offset = 0\n",
    "    for i in range(0, len(s1)):\n",
    "        longest = 0\n",
    "        if ((i == len(s1) - len(s2) - 2)):\n",
    "            break            \n",
    "        for j in range(0, len(s2)):\n",
    "            if (i+j < len(s1)):\n",
    "                if s1[i+j] == s2[j]:\n",
    "                    longest = longest + 1\n",
    "                    if (maxLongest < longest):\n",
    "                        maxLongest = longest\n",
    "                        offset = i\n",
    "                else:\n",
    "                    break\n",
    "            else:\n",
    "                break\n",
    "    return maxLongest, offset\n",
    "\n",
    "    \n",
    "def encode_lzw(text):\n",
    "\n",
    "    dictionary = dict()\n",
    "    # prepare the dictionary with the starting alphabet\n",
    "    i = 0\n",
    "    index = 1\n",
    "    while i < len(text):\n",
    "        if text[i] in dictionary:\n",
    "            i = i + 1\n",
    "        else:\n",
    "            dictionary[text[i]] = index\n",
    "            index = index + 1\n",
    "\n",
    "    # encode the text\n",
    "    i = 0\n",
    "    encoded = []\n",
    "    while i < len(text):\n",
    "        j = 0\n",
    "        stringToBeSaved = text[i]\n",
    "        # while the stringToBeSaved is in the dictionary and we are not in the end of the string\n",
    "        while stringToBeSaved in dictionary and i+j < len(text):\n",
    "            # save longest dictionary occurence's index\n",
    "            indexInDictionary = dictionary[stringToBeSaved]\n",
    "            length = len(stringToBeSaved)\n",
    "            if (i+j == len(text) - 1):\n",
    "                break\n",
    "            j = j + 1\n",
    "            stringToBeSaved = stringToBeSaved + text[i+j]\n",
    "        i = i + length\n",
    "        #print (\"<{0}>\".format(indexInDictionary))\n",
    "        encoded.append(indexInDictionary)\n",
    "        if (stringToBeSaved not in dictionary):\n",
    "            dictionary[stringToBeSaved] = index\n",
    "        index = index + 1\n",
    "\n",
    "    return encoded, dictionary\n",
    "        \n",
    "def decode_lzw(encoded, dictionary):\n",
    "    i = 0\n",
    "    while i < len(encoded):\n",
    "        print(list(dictionary.keys())[list(dictionary.values()).index(encoded[i])], end=\"\")\n",
    "        i = i+1\n",
    "    print('\\n')\n",
    "    \n",
    "\n",
    "if __name__ == \"__main__\":\n",
    "    #if (len(sys.argv) != 2):\n",
    "        #exit(\"You must specify the text which will be encoded! (Run with python3 lz77.py abracadabra)\")\n",
    "    #stringToEncode = ' '.join(sys.argv[1:2])\n",
    "    [encoded, dictionary] = encode_lzw(str(err))\n",
    "    #print(\"Encoded string: \", encoded)\n",
    "    #print(\"Decoded string: \", end = \"\")\n",
    "    decode_lzw(encoded, dictionary)\n",
    "    leZ=(len(encoded)+len(dictionary))\n",
    "    print(leZ)\n",
    "    #leDeZ=len(str(Err))\n",
    "    #print(leDeZ)\n",
    "    cr2=(leZ/CountInitial)\n",
    "    print(cr2)\n",
    "    ec2=(1-(cr2))*100\n",
    "    print(ec2)\n",
    "    "
   ]
  },
  {
   "cell_type": "code",
   "execution_count": 11,
   "id": "fa03236e",
   "metadata": {},
   "outputs": [
    {
     "name": "stdout",
     "output_type": "stream",
     "text": [
      "780\n",
      "0.2101293103448276\n",
      "78.98706896551724\n"
     ]
    }
   ],
   "source": [
    "import string\n",
    "import random\n",
    "from collections import Counter\n",
    "import time\n",
    "\n",
    "# Arithmetic Encoding\n",
    "def ac_encode(txt):\n",
    "\n",
    "    res = Counter(txt)\n",
    "\n",
    "    # characters\n",
    "    chars = list(res.keys())\n",
    "\n",
    "    # frequency of characters\n",
    "    freq = list(res.values())\n",
    "\n",
    "    probability = []\n",
    "    for i in freq:\n",
    "        probability.append(i / len(txt))\n",
    "\n",
    "    #print(chars)\n",
    "    #print(probability)\n",
    "\n",
    "    high = 1.0\n",
    "    low = 0.0\n",
    "    for c in txt:\n",
    "        diff = high - low\n",
    "        index = chars.index(c)\n",
    "        for i in range(index):\n",
    "            high = low + diff * probability[i]\n",
    "            low = high\n",
    "\n",
    "        high = low + diff * probability[index]\n",
    "        #print(f'char {c} -> Low: {low}   High: {high}')\n",
    "\n",
    "    tag = (low+high)/2.0\n",
    "\n",
    "    #print('Input: ' + txt)\n",
    "    #print(str(low) + '< codeword <' + str(high))\n",
    "    #print('codeword = ' + str(tag))\n",
    "\n",
    "    with open('encode.ac', 'w') as fw:\n",
    "        for i in chars:\n",
    "            fw.write(i + ' ')\n",
    "        fw.write('\\n')\n",
    "\n",
    "        for i in probability:\n",
    "            fw.write(str(i) + ' ')\n",
    "        fw.write('\\n')\n",
    "\n",
    "        fw.write(str(tag))\n",
    "\n",
    "    return chars, probability, tag\n",
    "\n",
    "\n",
    "# Arithmetic Decoding\n",
    "def ac_decode(chars, probability, tag):\n",
    "    high = 1.0\n",
    "    low = 0.0\n",
    "    output = ''\n",
    "    c = ''\n",
    "    while (c != '$'):\n",
    "        diff = high - low\n",
    "        for i in range(len(chars)):\n",
    "            high = low + diff * probability[i]\n",
    "            if low < tag < high:\n",
    "                break\n",
    "            else:\n",
    "                low = high\n",
    "\n",
    "        c = chars[i]\n",
    "        output += c\n",
    "\n",
    "    return output\n",
    "\n",
    "\n",
    "def arithmetic_coding(input):\n",
    "    if '$' in input:\n",
    "        input = input[0:input.index('$')]\n",
    "    if input[-1] != '$':\n",
    "        input += '$'\n",
    "\n",
    "    #print('Input: ' + input)\n",
    "\n",
    "    start = time.time()\n",
    "    (chars, probability, tag) = ac_encode(input)\n",
    "    output = ac_decode(chars, probability, tag)\n",
    "    end = time.time()\n",
    "\n",
    "    #print('Decode: ' + output)\n",
    "\n",
    "    #print('does match :  ' + str(input == output))\n",
    "    #print(f\"Total Time: {end - start} sec\\n\\n\")\n",
    "    return input == output\n",
    "ArEn=ac_encode(str(err))\n",
    "leAr=(len(ArEn[0])+len(str(ArEn[1]))+len(str(ArEn[1])))\n",
    "print(leAr)\n",
    "#le=len(str(Err))\n",
    "CountInitial = len(pq)*64\n",
    "cr3=(leAr/CountInitial)\n",
    "print(cr3)\n",
    "ec3=(1-(cr3))*100\n",
    "print(ec3)"
   ]
  },
  {
   "cell_type": "code",
   "execution_count": 10,
   "id": "8ae6d47d",
   "metadata": {},
   "outputs": [
    {
     "name": "stdout",
     "output_type": "stream",
     "text": [
      "[1500.0, 1498.7, 1497.4, 1496.1, 1494.8, 1493.5, 1492.2, 1490.9, 1489.6, 1488.3, 1487.0, 1485.7, 1484.4, 1483.1, 1481.8, 1480.5, 1479.2, 1477.9, 1476.6, 1475.3, 1474.0, 1472.7, 1471.4, 1470.1, 1468.8, 1467.5, 1466.2, 1464.9, 1463.6, 1462.3, 1461.0, 1459.7, 1458.4, 1457.1]\n",
      "[1500.0, 1498.7, 1497.4, 1496.1, 1494.8, 1493.5, 1492.2, 1490.9, 1489.6, 1488.3, 1487.0, 1485.7, 1484.4, 1483.1, 1481.8, 1480.5, 1479.2, 1477.9, 1476.6, 1475.3, 1474.0, 1472.7, 1471.4, 1470.1, 1468.8, 1467.5, 1466.2, 1464.9, 1463.6, 1462.3, 1461.0, 1459.7, 1458.4, 1457.1, 1455.8, 1454.5, 1453.2, 1451.9, 1450.6, 1449.3, 1448.0, 1446.7, 1445.4, 1444.1, 1442.8, 1441.5, 1440.2, 1438.9, 1437.6, 1436.3, 1435.0, 1433.7, 1432.4, 1431.1, 1429.8, 1428.5, 1427.2, 1425.9, 1424.6, 1423.3, 1422.0, 1420.7, 1419.4, 1418.1, 1416.8, 1415.5, 1414.2, 1412.9, 1411.6, 1410.3, 1409.0, 1407.7, 1406.4, 1405.1, 1403.8, 1402.5, 1401.2, 1399.9, 1398.6, 1397.3, 1396.0, 1394.7, 1393.4, 1392.1, 1390.8, 1389.5, 1388.2, 1386.9, 1385.6, 1384.3, 1383.0, 1381.7, 1380.4, 1379.1, 1377.8, 1376.5, 1375.2, 1373.9, 1372.6, 1371.3, 1370.0, 1368.7, 1367.4, 1366.1, 1364.8, 1363.5, 1362.2, 1360.9, 1359.6, 1358.3, 1357.0, 1355.7, 1354.4, 1353.1, 1351.8, 1350.5, 1349.2, 1347.9, 1346.6, 1345.3, 1344.0, 1342.7, 1341.4, 1340.1, 1338.8, 1337.5, 1336.2, 1334.9, 1333.6, 1332.3, 1331.0, 1329.7, 1328.4, 1327.1, 1325.8, 1324.5, 1323.2, 1321.9, 1320.6, 1319.3, 1318.0, 1316.7, 1315.4, 1314.1, 1312.8, 1311.5, 1310.2, 1308.9, 1307.6, 1306.3, 1305.0, 1303.7, 1302.4, 1301.1, 1299.8, 1298.5, 1297.2, 1295.9, 1294.6, 1293.3, 1292.0, 1290.7, 1289.4, 1288.1, 1286.8, 1285.5, 1284.2, 1282.9, 1281.6, 1280.3, 1279.0, 1277.7, 1276.4, 1275.1, 1273.8, 1272.5, 1271.2, 1269.9, 1268.6, 1267.3, 1266.0, 1264.7, 1263.4, 1262.1, 1260.8, 1259.5, 1258.2, 1256.9, 1255.6, 1254.3, 1253.0, 1251.7, 1250.4, 1249.1, 1247.8, 1246.5, 1245.2, 1243.9, 1242.6, 1241.3, 1240.0, 1238.7, 1237.4, 1236.1, 1234.8, 1233.5, 1232.2, 1230.9, 1229.6, 1228.3, 1227.0, 1225.7, 1224.4, 1223.1, 1221.8, 1220.5, 1219.2, 1217.9, 1216.6, 1215.3, 1214.0, 1212.7, 1211.4, 1210.1, 1208.8, 1207.5, 1206.2, 1204.9, 1203.6, 1202.3, 1201.0, 1199.7, 1198.4, 1197.1, 1195.8, 1194.5, 1193.2, 1191.9, 1190.6, 1189.3, 1188.0, 1186.7, 1185.4, 1184.1, 1182.8, 1181.5, 1180.2, 1178.9, 1177.6, 1176.3, 1175.0, 1173.7, 1172.4, 1171.1, 1169.8, 1168.5, 1167.2, 1165.9]\n",
      "[1500.0, 1498.7, 1497.4, 1496.1, 1494.8, 1493.5, 1492.2, 1490.9, 1489.6, 1488.3, 1487.0, 1485.7, 1484.4, 1483.1, 1481.8, 1480.5, 1479.2, 1477.9, 1476.6, 1475.3, 1474.0, 1472.7, 1471.4, 1470.1, 1468.8, 1467.5, 1466.2, 1464.9, 1463.6, 1462.3, 1461.0, 1459.7, 1458.4, 1457.1, 1455.8, 1454.5, 1453.2, 1451.9, 1450.6, 1449.3, 1448.0, 1446.7, 1445.4, 1444.1, 1442.8, 1441.5, 1440.2, 1438.9, 1437.6, 1436.3, 1435.0, 1433.7, 1432.4, 1431.1, 1429.8, 1428.5, 1427.2, 1425.9, 1424.6, 1423.3, 1422.0, 1420.7, 1419.4, 1418.1, 1416.8, 1415.5, 1414.2, 1412.9, 1411.6, 1410.3, 1409.0, 1407.7, 1406.4, 1405.1, 1403.8, 1402.5, 1401.2, 1399.9, 1398.6, 1397.3, 1396.0, 1394.7, 1393.4, 1392.1, 1390.8, 1389.5, 1388.2, 1386.9, 1385.6, 1384.3, 1383.0, 1381.7, 1380.4, 1379.1, 1377.8, 1376.5, 1375.2, 1373.9, 1372.6, 1371.3, 1370.0, 1368.7, 1367.4, 1366.1, 1364.8, 1363.5, 1362.2, 1360.9, 1359.6, 1358.3, 1357.0, 1355.7, 1354.4, 1353.1, 1351.8, 1350.5, 1349.2, 1347.9, 1346.6, 1345.3, 1344.0, 1342.7, 1341.4, 1340.1, 1338.8, 1337.5, 1336.2, 1334.9, 1333.6, 1332.3, 1331.0, 1329.7, 1328.4, 1327.1, 1325.8, 1324.5, 1323.2, 1321.9, 1320.6, 1319.3, 1318.0, 1316.7, 1315.4, 1314.1, 1312.8, 1311.5, 1310.2, 1308.9, 1307.6, 1306.3, 1305.0, 1303.7, 1302.4, 1301.1, 1299.8, 1298.5, 1297.2, 1295.9, 1294.6, 1293.3, 1292.0, 1290.7, 1289.4, 1288.1, 1286.8, 1285.5, 1284.2, 1282.9, 1281.6, 1280.3, 1279.0, 1277.7, 1276.4, 1275.1, 1273.8, 1272.5, 1271.2, 1269.9, 1268.6, 1267.3, 1266.0, 1264.7, 1263.4, 1262.1, 1260.8, 1259.5, 1258.2, 1256.9, 1255.6, 1254.3, 1253.0, 1251.7, 1250.4, 1249.1, 1247.8, 1246.5, 1245.2, 1243.9, 1242.6, 1241.3, 1240.0, 1238.7, 1237.4, 1236.1, 1234.8, 1233.5, 1232.2, 1230.9, 1229.6, 1228.3, 1227.0, 1225.7, 1224.4, 1223.1, 1221.8, 1220.5, 1219.2, 1217.9, 1216.6, 1215.3, 1214.0, 1212.7, 1211.4, 1210.1, 1208.8, 1207.5, 1206.2]\n",
      "[1500.0, 1498.7, 1497.4, 1496.1, 1494.8, 1493.5, 1492.2, 1490.9, 1489.6, 1488.3, 1487.0, 1485.7, 1484.4, 1483.1, 1481.8, 1480.5, 1479.2, 1477.9, 1476.6, 1475.3, 1474.0, 1472.7, 1471.4, 1470.1, 1468.8, 1467.5, 1466.2, 1464.9, 1463.6, 1462.3, 1461.0, 1459.7, 1458.4, 1457.1, 1455.8, 1454.5, 1453.2, 1451.9, 1450.6, 1449.3, 1448.0, 1446.7, 1445.4, 1444.1, 1442.8, 1441.5, 1440.2, 1438.9, 1437.6, 1436.3, 1435.0, 1433.7, 1432.4, 1431.1, 1429.8, 1428.5, 1427.2, 1425.9, 1424.6, 1423.3, 1422.0, 1420.7, 1419.4, 1418.1, 1416.8, 1415.5, 1414.2, 1412.9, 1411.6, 1410.3, 1409.0, 1407.7, 1406.4, 1405.1, 1403.8, 1402.5, 1401.2, 1399.9, 1398.6, 1397.3, 1396.0, 1394.7, 1393.4, 1392.1, 1390.8, 1389.5, 1388.2, 1386.9, 1385.6, 1384.3, 1383.0, 1381.7, 1380.4, 1379.1, 1377.8, 1376.5, 1375.2, 1373.9, 1372.6, 1371.3, 1370.0, 1368.7, 1367.4, 1366.1, 1364.8, 1363.5, 1362.2, 1360.9, 1359.6, 1358.3, 1357.0, 1355.7, 1354.4, 1353.1, 1351.8, 1350.5, 1349.2, 1347.9, 1346.6, 1345.3, 1344.0, 1342.7, 1341.4, 1340.1, 1338.8, 1337.5, 1336.2, 1334.9, 1333.6, 1332.3, 1331.0, 1329.7, 1328.4, 1327.1, 1325.8, 1324.5, 1323.2, 1321.9, 1320.6, 1319.3, 1318.0, 1316.7, 1315.4, 1314.1, 1312.8, 1311.5, 1310.2, 1308.9, 1307.6, 1306.3, 1305.0, 1303.7, 1302.4, 1301.1, 1299.8, 1298.5, 1297.2, 1295.9, 1294.6, 1293.3, 1292.0, 1290.7, 1289.4, 1288.1, 1286.8, 1285.5, 1284.2, 1282.9, 1281.6, 1280.3, 1279.0, 1277.7, 1276.4, 1275.1, 1273.8, 1272.5, 1271.2, 1269.9, 1268.6, 1267.3, 1266.0, 1264.7, 1263.4, 1262.1, 1260.8, 1259.5, 1258.2, 1256.9, 1255.6, 1254.3, 1253.0, 1251.7, 1250.4, 1249.1, 1247.8, 1246.5, 1245.2, 1243.9, 1242.6, 1241.3, 1240.0, 1238.7, 1237.4, 1236.1, 1234.8, 1233.5, 1232.2, 1230.9, 1229.6, 1228.3, 1227.0, 1225.7, 1224.4, 1223.1, 1221.8, 1220.5, 1219.2, 1217.9, 1216.6, 1215.3, 1214.0, 1212.7, 1211.4, 1210.1, 1208.8, 1207.5, 1206.2, 1204.9, 1203.6, 1202.3, 1201.0, 1199.7, 1198.4, 1197.1, 1195.8, 1194.5, 1193.2, 1191.9, 1190.6, 1189.3, 1188.0, 1186.7, 1185.4, 1184.1, 1182.8, 1181.5, 1180.2, 1178.9, 1177.6, 1176.3, 1175.0, 1173.7, 1172.4, 1171.1, 1169.8, 1168.5, 1167.2, 1165.9, 1164.6, 1163.3, 1162.0, 1160.7, 1159.4, 1158.1, 1156.8, 1155.5, 1154.2, 1152.9, 1151.6, 1150.3, 1149.0, 1147.7, 1146.4, 1145.1, 1143.8, 1142.5, 1141.2, 1139.9, 1138.6, 1137.3, 1136.0, 1134.7, 1133.4, 1132.1, 1130.8, 1129.5, 1128.2, 1126.9, 1125.6, 1124.3, 1123.0, 1121.7, 1120.4, 1119.1, 1117.8, 1116.5, 1115.2, 1113.9, 1112.6, 1111.3, 1110.0, 1108.7, 1107.4, 1106.1, 1104.8, 1103.5, 1102.2, 1100.9, 1099.6, 1098.3, 1097.0, 1095.7, 1094.4, 1093.1, 1091.8, 1090.5, 1089.2, 1087.9, 1086.6, 1085.3, 1084.0, 1082.7, 1081.4, 1080.1, 1078.8, 1077.5, 1076.2, 1074.9, 1073.6, 1072.3, 1071.0, 1069.7, 1068.4, 1067.1, 1065.8, 1064.5, 1063.2, 1061.9, 1060.6, 1059.3, 1058.0, 1056.7, 1055.4, 1054.1, 1052.8, 1051.5, 1050.2, 1048.9, 1047.6, 1046.3, 1045.0, 1043.7, 1042.4, 1041.1, 1039.8, 1038.5, 1037.2, 1035.9, 1034.6, 1033.3, 1032.0, 1030.7, 1029.4, 1028.1, 1026.8, 1025.5, 1024.2, 1022.9, 1021.6, 1020.3, 1019.0, 1017.7, 1016.4, 1015.1, 1013.8, 1012.5, 1011.2, 1009.9, 1008.6, 1007.3, 1006.0, 1004.7, 1003.4, 1002.1, 1000.8, 999.5, 998.2, 996.9, 995.6, 994.3, 993.0, 991.7, 990.4, 989.1, 987.8, 986.5, 985.2, 983.9, 982.6, 981.3, 980.0, 978.7, 977.4, 976.1, 974.8, 973.5, 972.2, 970.9, 969.6, 968.3, 967.0, 965.7, 964.4, 963.1, 961.8, 960.5, 959.2, 957.9, 956.6, 955.3, 954.0, 952.7, 951.4, 950.1, 948.8, 947.5, 946.2, 944.9, 943.6, 942.3, 941.0, 939.7, 938.4, 937.1, 935.8, 934.5, 933.2, 931.9, 930.6, 929.3, 928.0, 926.7, 925.4, 924.1, 922.8, 921.5, 920.2, 918.9, 917.6, 916.3, 915.0, 913.7, 912.4, 911.1, 909.8, 908.5, 907.2, 905.9, 904.6, 903.3, 902.0, 900.7, 899.4, 898.1, 896.8, 895.5, 894.2, 892.9, 891.6, 890.3, 889.0, 887.7, 886.4, 885.1, 883.8, 882.5, 881.2, 879.9, 878.6, 877.3, 876.0, 874.7, 873.4, 872.1, 870.8, 869.5, 868.2, 866.9, 865.6, 864.3, 863.0, 861.7, 860.4, 859.1, 857.8, 856.5, 855.2, 853.9, 852.6, 851.3, 850.0, 848.7, 847.4, 846.1, 844.8, 843.5, 842.2, 840.9, 839.6, 838.3, 837.0, 835.7, 834.4, 833.1, 831.8, 830.5, 829.2, 827.9, 826.6, 825.3, 824.0, 822.7, 821.4, 820.1, 818.8, 817.5, 816.2, 814.9, 813.6, 812.3, 811.0, 809.7, 808.4, 807.1, 805.8, 804.5, 803.2, 801.9, 800.6, 799.3, 798.0, 796.7, 795.4, 794.1, 792.8, 791.5, 790.2, 788.9, 787.6, 786.3, 785.0, 783.7, 782.4, 781.1, 779.8, 778.5, 777.2, 775.9, 774.6, 773.3, 772.0, 770.7, 769.4, 768.1, 766.8, 765.5, 764.2, 762.9, 761.6, 760.3, 759.0, 757.7, 756.4, 755.1, 753.8, 752.5, 751.2, 749.9, 748.6, 747.3, 746.0, 744.7, 743.4, 742.1, 740.8, 739.5, 738.2, 736.9, 735.6, 734.3, 733.0, 731.7, 730.4, 729.1, 727.8, 726.5, 725.2, 723.9, 722.6, 721.3, 720.0, 718.7, 717.4, 716.1]\n"
     ]
    },
    {
     "data": {
      "text/plain": [
       "<Figure size 432x288 with 0 Axes>"
      ]
     },
     "metadata": {},
     "output_type": "display_data"
    },
    {
     "data": {
      "image/png": "[encoded data removed]",
      "text/plain": [
       "<Figure size 576x576 with 4 Axes>"
      ]
     },
     "metadata": {
      "needs_background": "light"
     },
     "output_type": "display_data"
    }
   ],
   "source": [
    "time=0\n",
    "E0=1500\n",
    "Ecapture=0.3\n",
    "Esend=1\n",
    "ER_RLE = [ E0-(time*Esend)-(time*Ecapture) for time in range(le) ]\n",
    "ER_Huff=[ E0-(time*Esend)-(time*Ecapture) for time in range(stream_length) ]\n",
    "ER_LZW=[ E0-(time*Esend)-(time*Ecapture) for time in range(leZ) ]\n",
    "ER_Arith=[ E0-(time*Esend)-(time*Ecapture) for time in range(leAr) ]\n",
    "\n",
    "print(ER_RLE)\n",
    "print(ER_Huff)\n",
    "print(ER_LZW)\n",
    "print(ER_Arith)\n",
    "\n",
    "plt.figure()\n",
    "#subplots_adjust(left=None, bottom=None, right=None, top=None, wspace=None, hspace=None)\n",
    "fig, axes = plt.subplots(nrows=2, ncols=2, figsize=(8, 8),tight_layout=True)\n",
    "fig.tight_layout()\n",
    "plt.subplot(221)\n",
    "plt.plot(ER_RLE,label='Remaining Energy of Arithmetic',color=\"r\")\n",
    "plt.title(' RLE')\n",
    "plt.xlabel('Length of code')\n",
    "plt.ylabel('Remaining Energy')\n",
    "plt.grid(True)\n",
    "######\n",
    "plt.subplot(222)\n",
    "plt.plot(ER_Huff,label='Remaining Energy of Huffman',color=\"g\")\n",
    "plt.title(' Huffman')\n",
    "plt.xlabel('Length of code')\n",
    "plt.grid(True)\n",
    "#######\n",
    "plt.subplot(223)\n",
    "plt.plot(ER_LZW,label='Remaining Energy of LZW',color=\"b\")\n",
    "plt.title(' LZW')\n",
    "plt.xlabel('Length of code')\n",
    "plt.ylabel('Remaining Energy')\n",
    "plt.ylabel('Remaining Energy')\n",
    "plt.grid(True)\n",
    "######\n",
    "plt.subplot(224)\n",
    "plt.plot(ER_Arith,label='Remaining Energy of ARithmetic',color=\"y\")\n",
    "plt.title(' Arithmetic')\n",
    "plt.xlabel('Length of code')\n",
    "plt.ylabel('Remaining Energy')\n",
    "plt.grid(True)\n",
    "\n",
    "plt.show()"
   ]
  },
  {
   "cell_type": "code",
   "execution_count": 13,
   "id": "04559b21",
   "metadata": {},
   "outputs": [
    {
     "data": {
      "image/png": "[encoded data removed]",
      "text/plain": [
       "<Figure size 504x360 with 1 Axes>"
      ]
     },
     "metadata": {
      "needs_background": "light"
     },
     "output_type": "display_data"
    }
   ],
   "source": [
    "import numpy as np\n",
    "import matplotlib.pyplot as plt\n",
    "  \n",
    "# creating the dataset\n",
    "algorithms = ['LPC with Huffman', 'LPRLC', 'LPC with Arithmetic',\n",
    "        'LPC with LZW']\n",
    "energy=[EC,ec,ec3,ec2]\n",
    "c = ['red', 'green', 'blue', 'orange']  \n",
    "fig = plt.figure(figsize = (7, 5)) \n",
    "# creating the bar plot\n",
    "plt.grid(zorder=0)\n",
    "plt.bar(algorithms, energy, color = c,\n",
    "        width = 0.4,zorder=3)\n",
    "\n",
    "plt.xlabel(\"Algorithms\",weight='bold',fontsize=14.0)\n",
    "plt.ylabel(\"Energy Conservation\",weight='bold',fontsize=14.0)\n",
    "plt.title(\"Energy Conservation in Blood Pressure Systolic\",weight='bold',fontsize=14.0)\n",
    "plt.grid(color='black',which='both', linestyle='-', linewidth=1)\n",
    "plt.show()"
   ]
  },
  {
   "cell_type": "code",
   "execution_count": null,
   "id": "928a2079",
   "metadata": {},
   "outputs": [],
   "source": []
  }
 ],
 "metadata": {
  "kernelspec": {
   "display_name": "Python 3 (ipykernel)",
   "language": "python",
   "name": "python3"
  },
  "language_info": {
   "codemirror_mode": {
    "name": "ipython",
    "version": 3
   },
   "file_extension": ".py",
   "mimetype": "text/x-python",
   "name": "python",
   "nbconvert_exporter": "python",
   "pygments_lexer": "ipython3",
   "version": "3.9.7"
  }
 },
 "nbformat": 4,
 "nbformat_minor": 5
}
